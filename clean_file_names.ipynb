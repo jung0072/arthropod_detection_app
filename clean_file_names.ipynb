{
 "cells": [
  {
   "cell_type": "code",
   "execution_count": 3,
   "metadata": {},
   "outputs": [],
   "source": [
    "import os\n",
    "\n",
    "files = os.listdir('sample_images')\n",
    "for file in files:\n",
    "    if file.endswith('jpg'):\n",
    "\n",
    "        os.rename('sample_images/' + file, 'sample_images/' + file.replace('jpg', '.jpg'))\n",
    "    elif file.endswith('pickle'):\n",
    "        os.rename('sample_images/' + file, 'sample_images/' + file.replace('pickle', '.pickle'))"
   ]
  }
 ],
 "metadata": {
  "kernelspec": {
   "display_name": "kaggle",
   "language": "python",
   "name": "python3"
  },
  "language_info": {
   "codemirror_mode": {
    "name": "ipython",
    "version": 3
   },
   "file_extension": ".py",
   "mimetype": "text/x-python",
   "name": "python",
   "nbconvert_exporter": "python",
   "pygments_lexer": "ipython3",
   "version": "3.11.5"
  }
 },
 "nbformat": 4,
 "nbformat_minor": 2
}
