{
 "cells": [
  {
   "cell_type": "code",
   "execution_count": 3,
   "metadata": {},
   "outputs": [
    {
     "name": "stdout",
     "output_type": "stream",
     "text": [
      "0.8452363610267639\n",
      "0.8437286019325256\n",
      "0.8434985280036926\n",
      "0.8423833250999451\n",
      "0.8366182446479797\n",
      "0.814176619052887\n",
      "0.8060423135757446\n",
      "0.7935335040092468\n",
      "0.791904866695404\n",
      "0.7868630290031433\n",
      "0.7858386635780334\n",
      "0.7025733590126038\n",
      "0.790529727935791\n",
      "0.9835995435714722\n",
      "0.9719836711883545\n",
      "0.9024329781532288\n",
      "0.9420994520187378\n",
      "0.8780773878097534\n"
     ]
    }
   ],
   "source": [
    "# read list from /Users/minkijung/Documents/3AISD/AIProject/app/sample_images/PXL_20240202_154247760.pickle\n",
    "# and print the list\n",
    "import pickle\n",
    "import os\n",
    "import sys\n",
    "import numpy as np\n",
    "import cv2\n",
    "\n",
    "\n",
    "def read_pickle_file(file_path):\n",
    "    with open(file_path, 'rb') as f:\n",
    "        data = pickle.load(f)\n",
    "    return data\n",
    "\n",
    "\n",
    "result = read_pickle_file(\n",
    "    \"/Users/minkijung/Documents/3AISD/AIProject/app/sample_images/PXL_20240202_154247760.pickle\"\n",
    ")\n",
    "for obg in result:\n",
    "    print(obg[\"score\"])"
   ]
  }
 ],
 "metadata": {
  "kernelspec": {
   "display_name": "kaggle",
   "language": "python",
   "name": "python3"
  },
  "language_info": {
   "codemirror_mode": {
    "name": "ipython",
    "version": 3
   },
   "file_extension": ".py",
   "mimetype": "text/x-python",
   "name": "python",
   "nbconvert_exporter": "python",
   "pygments_lexer": "ipython3",
   "version": "3.11.5"
  }
 },
 "nbformat": 4,
 "nbformat_minor": 2
}
